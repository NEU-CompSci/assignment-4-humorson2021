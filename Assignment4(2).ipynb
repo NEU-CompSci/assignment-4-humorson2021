{
  "nbformat": 4,
  "nbformat_minor": 0,
  "metadata": {
    "colab": {
      "provenance": []
    },
    "kernelspec": {
      "name": "python3",
      "display_name": "Python 3"
    },
    "language_info": {
      "name": "python"
    }
  },
  "cells": [
    {
      "cell_type": "code",
      "execution_count": null,
      "metadata": {
        "id": "jzsJNJMxhUvI"
      },
      "outputs": [],
      "source": [
        "import os\n",
        "\n",
        "!pip install pyspark\n",
        "!pip install -U -q PyDrive\n",
        "!apt install openjdk-8-jdk-headless -qq\n",
        "os.environ[\"JAVA_HOME\"] = \"/usr/lib/jvm/java-8-openjdk-amd64\""
      ]
    },
    {
      "cell_type": "code",
      "source": [
        "import pandas as pd\n",
        "from scipy.spatial.distance import mahalanobis\n",
        "\n",
        "# read data into a pandas dataframe\n",
        "data = pd.read_csv('https://course.ccs.neu.edu/cs6220/homework-4/data/f150_motor_distributors.txt', header=None, names=['x', 'y'])"
      ],
      "metadata": {
        "id": "9KO7mCQckSOq"
      },
      "execution_count": 47,
      "outputs": []
    },
    {
      "cell_type": "code",
      "source": [
        "import numpy as np\n",
        "import pandas as pd\n",
        "\n",
        "# Define the parameters\n",
        "P = np.array([[10, 0.5], [-10, 0.25]])\n",
        "P_inv = np.linalg.inv(P)\n",
        "k = 5\n",
        "max_iter = 100\n",
        "\n",
        "# Initialize the centroids\n",
        "centroids = np.array([[10, 10], [-10, -10], [2, 2], [3, 3], [-3, -3]])\n"
      ],
      "metadata": {
        "id": "ijeKYgsciUZb"
      },
      "execution_count": 57,
      "outputs": []
    },
    {
      "cell_type": "code",
      "source": [
        "X = np.array(data)"
      ],
      "metadata": {
        "id": "CxHnPtE4dgyl"
      },
      "execution_count": 58,
      "outputs": []
    },
    {
      "cell_type": "code",
      "source": [
        "# Run the specialized k-means algorithm\n",
        "for i in range(max_iter):\n",
        "    # Assign each point to the closest centroid\n",
        "    clusters = [[] for _ in range(k)]\n",
        "    for x in X:\n",
        "        distances = [mahalanobis(x, centroid, P_inv) for centroid in centroids]\n",
        "        cluster_index = np.argmin(distances)\n",
        "        clusters[cluster_index].append(x)\n",
        "\n",
        "    # Update the centroids\n",
        "    for j in range(k):\n",
        "        cluster_size = len(clusters[j])\n",
        "        if cluster_size > 0:\n",
        "            centroids[j] = np.mean(clusters[j], axis=0)\n",
        "\n",
        "    # Check for convergence\n",
        "    if i > 0 and np.allclose(prev_centroids, centroids):\n",
        "        break\n",
        "    prev_centroids = centroids.copy()\n",
        "\n",
        "# Assign each point to the final cluster\n",
        "final_clusters = [[] for _ in range(k)]\n",
        "for x in X:\n",
        "    distances = [mahalanobis(x, centroid, P_inv) for centroid in centroids]\n",
        "    cluster_index = np.argmin(distances)\n",
        "    final_clusters[cluster_index].append(x)"
      ],
      "metadata": {
        "id": "KKFKYDxXP3Hr"
      },
      "execution_count": 59,
      "outputs": []
    },
    {
      "cell_type": "code",
      "source": [
        "# Plot the results\n",
        "import matplotlib.pyplot as plt\n",
        "\n",
        "colors = ['r', 'g', 'b', 'y', 'k']\n",
        "for j in range(k):\n",
        "    cluster_points = np.array(final_clusters[j])\n",
        "    plt.scatter(cluster_points[:, 0], cluster_points[:, 1], color=colors[j])\n",
        "plt.show()"
      ],
      "metadata": {
        "colab": {
          "base_uri": "https://localhost:8080/",
          "height": 265
        },
        "id": "9qM2lEeVIPl3",
        "outputId": "71848841-edfe-4594-ae2a-a9a1eb210963"
      },
      "execution_count": 60,
      "outputs": [
        {
          "output_type": "display_data",
          "data": {
            "text/plain": [
              "<Figure size 432x288 with 1 Axes>"
            ],
            "image/png": "[encoded data removed]"
          },
          "metadata": {
            "needs_background": "light"
          }
        }
      ]
    },
    {
      "cell_type": "code",
      "source": [
        "aggregate_data = np.mean(data, axis=0)\n",
        "\n",
        "# Compute the covariance matrix of the data\n",
        "covariance = np.cov(data, rowvar=False)\n",
        "\n",
        "# Compute the eigenvalues and eigenvectors of the covariance matrix\n",
        "eigenvalues, eigenvectors = np.linalg.eig(covariance)"
      ],
      "metadata": {
        "id": "g4_23zd6jdGv"
      },
      "execution_count": 61,
      "outputs": []
    },
    {
      "cell_type": "code",
      "source": [
        "print(\"Eigenvalues:\", eigenvalues)\n",
        "print(\"Eigenvectors:\\n\", eigenvectors)"
      ],
      "metadata": {
        "colab": {
          "base_uri": "https://localhost:8080/"
        },
        "id": "YnTvr2lMjiEG",
        "outputId": "72060d10-ec9e-4071-afd3-f0ceca4521b8"
      },
      "execution_count": 62,
      "outputs": [
        {
          "output_type": "stream",
          "name": "stdout",
          "text": [
            "Eigenvalues: [322.50713273  17.38845582]\n",
            "Eigenvectors:\n",
            " [[ 0.99838317  0.05684225]\n",
            " [-0.05684225  0.99838317]]\n"
          ]
        }
      ]
    }
  ]
}